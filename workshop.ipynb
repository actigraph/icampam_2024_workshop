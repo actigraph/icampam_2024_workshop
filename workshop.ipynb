{
 "cells": [
  {
   "cell_type": "code",
   "execution_count": null,
   "id": "1ea3fcc6-459a-4fb1-a5f0-3735452bb65e",
   "metadata": {},
   "outputs": [],
   "source": [
    "!pip install --upgrade pandavro agcounts"
   ]
  },
  {
   "cell_type": "code",
   "execution_count": null,
   "id": "e5f91422-05b9-4dcd-a54c-aebd32332baa",
   "metadata": {},
   "outputs": [],
   "source": [
    "import pandas as pd\n",
    "import pandavro as pdx\n",
    "from agcounts.extract import get_counts"
   ]
  },
  {
   "cell_type": "code",
   "execution_count": null,
   "id": "7a2d770c-bd4c-48d6-b7a0-a33eff3d5b34",
   "metadata": {},
   "outputs": [],
   "source": [
    "!wget https://github.com/actigraph/icampam_2024_workshop/raw/main/input/big.avro"
   ]
  },
  {
   "cell_type": "code",
   "execution_count": null,
   "id": "bae3ae51-632b-4a13-a36a-d07af5446079",
   "metadata": {},
   "outputs": [],
   "source": [
    "def acc_from_avro(avro_file: str, timezone: str) -> pd.DataFrame:\n",
    "    raw_acc = pdx.read_avro(avro_file)\n",
    "    frequency = 1 / raw_acc.SampleOrder.max()\n",
    "    raw_acc.Timestamp = raw_acc.Timestamp + raw_acc.SampleOrder * frequency\n",
    "    raw_acc.Timestamp = pd.to_datetime(raw_acc.Timestamp, unit=\"s\")\n",
    "    raw_acc.set_index(\"Timestamp\", inplace=True)\n",
    "    raw_acc.tz_localize(timezone)\n",
    "    return raw_acc\n",
    "\n",
    "\n",
    "def counts_from_df(raw_acc: pd.DataFrame, epoch: int) -> pd.DataFrame:\n",
    "    counts = get_counts(raw_acc[[\"X\", \"Y\", \"Z\"]].values, freq=32, epoch=epoch)\n",
    "    indexes = (\n",
    "        raw_acc.index.to_series()\n",
    "        .groupby(pd.Grouper(freq=f\"{epoch}s\", origin=\"start_day\"))\n",
    "        .first()\n",
    "    )\n",
    "    counts = pd.DataFrame(counts, columns=[\"X\", \"Y\", \"Z\"], index=indexes[: len(counts)])\n",
    "    return counts\n"
   ]
  },
  {
   "cell_type": "code",
   "execution_count": null,
   "id": "5c2bf0f0-2a4f-4363-b66a-9d798e2ac793",
   "metadata": {},
   "outputs": [],
   "source": [
    "def magnitude(counts: pd.DataFrame) -> pd.Series:\n",
    "    # TODO\n",
    "    pass\n",
    "\n",
    "\n",
    "def apply_cutpoint(magnitude_counts: pd.Series, cutpoint: int) -> pd.Series:\n",
    "    # TODO\n",
    "    pass\n",
    "\n",
    "\n",
    "def daily(data: pd.Series) -> pd.Series:\n",
    "    # TODO\n",
    "    pass\n"
   ]
  },
  {
   "cell_type": "code",
   "execution_count": null,
   "id": "9e4f99f7-2917-40c3-bf42-88026ab227aa",
   "metadata": {},
   "outputs": [],
   "source": [
    "raw_data = acc_from_avro(\n",
    "    \"big.avro\", \"US/Central\"\n",
    ")"
   ]
  },
  {
   "cell_type": "code",
   "execution_count": null,
   "id": "34f448bf-1c2d-47a1-8242-49067a29669e",
   "metadata": {},
   "outputs": [],
   "source": [
    "counts_60 = counts_from_df(raw_data, 60)\n",
    "magnitude_counts = magnitude(counts_60)\n",
    "intensity = apply_cutpoint(magnitude_counts, 3000)\n",
    "days = daily(intensity)\n",
    "print(days)"
   ]
  },
  {
   "cell_type": "code",
   "execution_count": null,
   "id": "fc9f030f-3ce7-4d28-b035-493c94e9e1df",
   "metadata": {},
   "outputs": [],
   "source": [
    "def counts_to_csv(counts: pd.DataFrame, filename: str):\n",
    "    counts.to_csv(filename)\n",
    "\n",
    "def counts_from_csv(filename: str, epoch: int) -> pd.DataFrame:\n",
    "    counts_1s = pd.read_csv(filename, parse_dates=[0], index_col=\"Timestamp\")\n",
    "\n",
    "    # TODO Calculate counts for epoch\n",
    "    return counts"
   ]
  },
  {
   "cell_type": "code",
   "execution_count": null,
   "id": "c5a7e888-5ae2-4988-b699-27dd99fc807c",
   "metadata": {},
   "outputs": [],
   "source": [
    "counts_1s = counts_from_df(raw_data, 1)\n",
    "counts_to_csv(counts_1s, \"counts_1s.csv\")\n",
    "new_counts_60 = counts_from_csv(\"counts_1s.csv\", 60)\n",
    "magnitude_counts = magnitude(new_counts_60)\n",
    "intensity = apply_cutpoint(magnitude_counts, 3000)\n",
    "days = daily(intensity)\n",
    "print(days)"
   ]
  },
  {
   "cell_type": "code",
   "execution_count": null,
   "id": "60518125-9d52-4b90-8554-d50a876c7d67",
   "metadata": {},
   "outputs": [],
   "source": [
    "# Check if the two ways of obtaining counts are the same"
   ]
  }
 ],
 "metadata": {
  "kernelspec": {
   "display_name": "Python 3 (ipykernel)",
   "language": "python",
   "name": "python3"
  },
  "language_info": {
   "codemirror_mode": {
    "name": "ipython",
    "version": 3
   },
   "file_extension": ".py",
   "mimetype": "text/x-python",
   "name": "python",
   "nbconvert_exporter": "python",
   "pygments_lexer": "ipython3",
   "version": "3.11.7"
  }
 },
 "nbformat": 4,
 "nbformat_minor": 5
}
